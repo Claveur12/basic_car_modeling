{
 "cells": [
  {
   "cell_type": "code",
   "execution_count": 22,
   "id": "923b44bc",
   "metadata": {},
   "outputs": [
    {
     "name": "stdout",
     "output_type": "stream",
     "text": [
      "gas\n",
      "3\n",
      "I am driving my vehicle the speed of 50 km per hour\n",
      "None\n",
      "I am driving my vehicle the speed of 120 km per hour\n",
      "None\n"
     ]
    }
   ],
   "source": [
    "class Vehicle(): \n",
    "    def __init__(self, bodytype):\n",
    "        self.bodytype = bodytype\n",
    "    \n",
    "class Car(Vehicle): \n",
    "    def __init__(self, enginestyle):\n",
    "        super().__init__(\"Car\")\n",
    "        self.wheels = 1\n",
    "        self.door = 4\n",
    "        self.enginestyle = enginestyle\n",
    "    def drive(self, speed): \n",
    "        self.mode = \"driving\"\n",
    "        self.speed = speed\n",
    "\n",
    "class Motorcycle(Vehicle): \n",
    "    def __init__(self, enginestyle, hassidecar): \n",
    "        super().__init__(\"Motorcycle\")\n",
    "        self.door = 0\n",
    "        self.enginestyle = enginestyle\n",
    "      \n",
    "        if (hassidecar): \n",
    "            self.wheels = 3\n",
    "        else:\n",
    "            self.wheels = 2\n",
    "    def driving(self, speed): \n",
    "        self.speed = speed\n",
    "        self.mode = \"driving\"\n",
    "        print(f\"I am {self.mode} my vehicle the speed of {self.speed} km per hour\" )\n",
    "                \n",
    "car1 = Car(\"gas\")\n",
    "car2 = Car(\"Diesel\")\n",
    "\n",
    "mc1 = Motorcycle(\"gas\", \"hassidecar\")\n",
    "mc2 = Motorcycle(\"Diesel\", \"no_hassidecar\")\n",
    "\n",
    "print(car1.enginestyle)\n",
    "print(mc2.wheels)\n",
    "print(mc2.driving(50))\n",
    "print(mc1.driving(120))\n",
    "            \n",
    "    \n",
    "        \n",
    "        \n",
    "    "
   ]
  },
  {
   "cell_type": "code",
   "execution_count": null,
   "id": "890bffab",
   "metadata": {},
   "outputs": [],
   "source": []
  }
 ],
 "metadata": {
  "kernelspec": {
   "display_name": "Python 3 (ipykernel)",
   "language": "python",
   "name": "python3"
  },
  "language_info": {
   "codemirror_mode": {
    "name": "ipython",
    "version": 3
   },
   "file_extension": ".py",
   "mimetype": "text/x-python",
   "name": "python",
   "nbconvert_exporter": "python",
   "pygments_lexer": "ipython3",
   "version": "3.9.13"
  }
 },
 "nbformat": 4,
 "nbformat_minor": 5
}
